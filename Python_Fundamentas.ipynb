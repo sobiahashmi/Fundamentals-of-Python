{
 "cells": [
  {
   "cell_type": "markdown",
   "metadata": {},
   "source": [
    "# Topic: Statements, Expressions, And Indentation​"
   ]
  },
  {
   "cell_type": "markdown",
   "metadata": {},
   "source": [
    "## Statements​\n",
    "\n",
    "```A statement is a complete line of code that performs a specific action. Examples include assignment statements, loop statements, conditional statements, and function calls.​```"
   ]
  },
  {
   "cell_type": "markdown",
   "metadata": {},
   "source": [
    "### Types of Statements:\n",
    "* Assignment statements\n",
    "* Loop statements\n",
    "* Conditional statements\n",
    "* Function calls"
   ]
  },
  {
   "cell_type": "markdown",
   "metadata": {},
   "source": [
    "## 1. Assignment Statements"
   ]
  },
  {
   "cell_type": "code",
   "execution_count": 2,
   "metadata": {},
   "outputs": [
    {
     "name": "stdout",
     "output_type": "stream",
     "text": [
      "name\n",
      "Alice Sobia\n"
     ]
    }
   ],
   "source": [
    "\n",
    "name = \"Alice\"\n",
    "print(\"name\")\n",
    "you = \"Sobia\"\n",
    "print(name,you)"
   ]
  },
  {
   "cell_type": "code",
   "execution_count": 9,
   "metadata": {},
   "outputs": [
    {
     "name": "stdout",
     "output_type": "stream",
     "text": [
      "100 <class 'int'>\n",
      "2020202020\n"
     ]
    }
   ],
   "source": [
    "x= 20\n",
    "print(x*5,type(x))\n",
    "x= \"20\"\n",
    "print(x*5)"
   ]
  },
  {
   "cell_type": "markdown",
   "metadata": {},
   "source": [
    "## 2. Print Statements"
   ]
  },
  {
   "cell_type": "code",
   "execution_count": 11,
   "metadata": {},
   "outputs": [
    {
     "name": "stdout",
     "output_type": "stream",
     "text": [
      "Hello, \n",
      "World\n"
     ]
    }
   ],
   "source": [
    "print(\"Hello, \\nWorld\")"
   ]
  },
  {
   "cell_type": "code",
   "execution_count": 12,
   "metadata": {},
   "outputs": [
    {
     "name": "stdout",
     "output_type": "stream",
     "text": [
      "Hello, \tWorld\n"
     ]
    }
   ],
   "source": [
    "print(\"Hello, \\tWorld\")"
   ]
  },
  {
   "cell_type": "code",
   "execution_count": 13,
   "metadata": {},
   "outputs": [
    {
     "name": "stdout",
     "output_type": "stream",
     "text": [
      "Hello, World\n"
     ]
    }
   ],
   "source": [
    "print(\"Hello, World\")"
   ]
  },
  {
   "cell_type": "markdown",
   "metadata": {},
   "source": [
    "## 3. Conditional Statement"
   ]
  },
  {
   "cell_type": "code",
   "execution_count": 19,
   "metadata": {},
   "outputs": [
    {
     "name": "stdout",
     "output_type": "stream",
     "text": [
      "x is not greater than 5\n"
     ]
    }
   ],
   "source": [
    "x = 4\n",
    "\n",
    "if(x >= 5):\n",
    "    print(\"x is equal to / greater than 5\")\n",
    "else:\n",
    "    print(\"x is not greater than 5\")"
   ]
  },
  {
   "cell_type": "markdown",
   "metadata": {},
   "source": [
    "## 4. Loop Statement"
   ]
  },
  {
   "cell_type": "code",
   "execution_count": 24,
   "metadata": {},
   "outputs": [
    {
     "name": "stdout",
     "output_type": "stream",
     "text": [
      "1\n",
      "2\n",
      "3\n",
      "4\n",
      "5\n"
     ]
    }
   ],
   "source": [
    "# Execute 1: Using for loop to iterate over a sequence of numbers\n",
    "for i in range(5):\n",
    "    print(i+1)"
   ]
  },
  {
   "cell_type": "code",
   "execution_count": 26,
   "metadata": {},
   "outputs": [
    {
     "name": "stdout",
     "output_type": "stream",
     "text": [
      "3\n",
      "4\n",
      "5\n"
     ]
    }
   ],
   "source": [
    "# Example: Print numbers from 3 to 5\n",
    "for i in range(3,6):\n",
    "    # Inside the loop, the current value of 'i' is printed  \n",
    "    print(i)"
   ]
  },
  {
   "cell_type": "code",
   "execution_count": 3,
   "metadata": {},
   "outputs": [
    {
     "name": "stdout",
     "output_type": "stream",
     "text": [
      "10\n",
      "10\n",
      "10\n",
      "10\n",
      "10\n"
     ]
    }
   ],
   "source": [
    "for i in range(6):\n",
    "    i = 10\n",
    "    print(i)"
   ]
  },
  {
   "cell_type": "code",
   "execution_count": 9,
   "metadata": {},
   "outputs": [
    {
     "name": "stdout",
     "output_type": "stream",
     "text": [
      "3\n",
      "4\n",
      "5\n",
      "6\n",
      "7\n",
      "8\n",
      "9\n"
     ]
    }
   ],
   "source": [
    "for i in range(3,10):\n",
    "    print(i)"
   ]
  },
  {
   "cell_type": "markdown",
   "metadata": {},
   "source": [
    " Expressions\n",
    "\n",
    " Indentation\n",
    " \n",
    " Rules of Indentation"
   ]
  },
  {
   "cell_type": "code",
   "execution_count": 10,
   "metadata": {},
   "outputs": [
    {
     "name": "stdout",
     "output_type": "stream",
     "text": [
      "Inside the Loop\n",
      "Inside the Loop\n",
      "Inside the Loop\n",
      "Outside the Loop\n"
     ]
    }
   ],
   "source": [
    "# Example 1: Using Indentation in a for loop\n",
    "for i in range(3):\n",
    "    print(\"Inside the Loop\")\n",
    "print(\"Outside the Loop\")"
   ]
  },
  {
   "cell_type": "code",
   "execution_count": 12,
   "metadata": {},
   "outputs": [
    {
     "name": "stdout",
     "output_type": "stream",
     "text": [
      "5\n",
      "The value of x is: 10\n"
     ]
    }
   ],
   "source": [
    "x = 5\n",
    "X = 10\n",
    "print(x)\n",
    "print(\"The value of x is:\",X)"
   ]
  },
  {
   "cell_type": "code",
   "execution_count": 14,
   "metadata": {},
   "outputs": [
    {
     "name": "stdout",
     "output_type": "stream",
     "text": [
      "['False', 'None', 'True', 'and', 'as', 'assert', 'async', 'await', 'break', 'class', 'continue', 'def', 'del', 'elif', 'else', 'except', 'finally', 'for', 'from', 'global', 'if', 'import', 'in', 'is', 'lambda', 'nonlocal', 'not', 'or', 'pass', 'raise', 'return', 'try', 'while', 'with', 'yield']\n"
     ]
    }
   ],
   "source": [
    "# Load all the keywords\n",
    "import keyword\n",
    "print(keyword.kwlist)"
   ]
  },
  {
   "cell_type": "code",
   "execution_count": 15,
   "metadata": {},
   "outputs": [
    {
     "data": {
      "text/plain": [
       "'\\nhiii\\nWelcome to BIA\\n'"
      ]
     },
     "execution_count": 15,
     "metadata": {},
     "output_type": "execute_result"
    }
   ],
   "source": [
    "# Multiline comment\n",
    "'''\n",
    "hiii\n",
    "Welcome to BIA\n",
    "'''"
   ]
  },
  {
   "cell_type": "code",
   "execution_count": 16,
   "metadata": {},
   "outputs": [
    {
     "name": "stdout",
     "output_type": "stream",
     "text": [
      "2 3 4\n"
     ]
    }
   ],
   "source": [
    "x = 2\n",
    "y = 3\n",
    "z = 4\n",
    "\n",
    "print(x,y,z)"
   ]
  },
  {
   "cell_type": "code",
   "execution_count": 19,
   "metadata": {},
   "outputs": [
    {
     "name": "stdout",
     "output_type": "stream",
     "text": [
      "2 3 4\n",
      "2 \n",
      " 3\n",
      "x = 2\n"
     ]
    }
   ],
   "source": [
    "x,y,z = 2,3,\"4\"\n",
    "print(x,y,z)\n",
    "\n",
    "print(x,\"\\n\",y)\n",
    "print(\"x =\",x)\n"
   ]
  },
  {
   "cell_type": "markdown",
   "metadata": {},
   "source": [
    "# Fundamental Data Types\n",
    "\n",
    "``` \n",
    "Data type is a classification or categorization of data items that informs the compiler or interpreter how the programmer intends to use the data. ​\n",
    "It defines the kind of values that variables can take and the operations that can be performed on them.​\n",
    "```"
   ]
  },
  {
   "cell_type": "markdown",
   "metadata": {},
   "source": [
    "|Category​\t|Data Types|​\n",
    "|Text Type​\tstr|​\n",
    "|Numeric Types​\tint, float, complex​|\n",
    "|Sequence Types​\tlist, tuple, range|​\n",
    "|Mapping Type​\tdict​|\n",
    "|Set Types​\tset, frozenset|​\n",
    "|Boolean Type​\tbool​|\n",
    "|Binary Types​\tbytes, bytearray, memoryview|​\n",
    "|None Type​\tNoneType​|"
   ]
  },
  {
   "cell_type": "code",
   "execution_count": 20,
   "metadata": {},
   "outputs": [
    {
     "data": {
      "text/plain": [
       "int"
      ]
     },
     "execution_count": 20,
     "metadata": {},
     "output_type": "execute_result"
    }
   ],
   "source": [
    "x = -10\n",
    "type(x)"
   ]
  },
  {
   "cell_type": "code",
   "execution_count": 22,
   "metadata": {},
   "outputs": [
    {
     "data": {
      "text/plain": [
       "True"
      ]
     },
     "execution_count": 22,
     "metadata": {},
     "output_type": "execute_result"
    }
   ],
   "source": [
    "0 == False"
   ]
  },
  {
   "cell_type": "code",
   "execution_count": 25,
   "metadata": {},
   "outputs": [
    {
     "name": "stdout",
     "output_type": "stream",
     "text": [
      "1 <class 'int'>\n"
     ]
    }
   ],
   "source": [
    "x = 1\n",
    "print(x,type(x))"
   ]
  },
  {
   "cell_type": "markdown",
   "metadata": {},
   "source": [
    "String Concatination"
   ]
  },
  {
   "cell_type": "code",
   "execution_count": 30,
   "metadata": {},
   "outputs": [
    {
     "name": "stdout",
     "output_type": "stream",
     "text": [
      "John Doe Land 1234\n"
     ]
    }
   ],
   "source": [
    "first_name = \"John\"\n",
    "last_name = \"Doe\"\n",
    "seperator = ' '\n",
    "\n",
    "full_name = first_name + seperator + last_name + \" Land\" + \" 1234\"\n",
    "print(full_name)"
   ]
  },
  {
   "cell_type": "code",
   "execution_count": 35,
   "metadata": {},
   "outputs": [
    {
     "name": "stdout",
     "output_type": "stream",
     "text": [
      "6\n",
      "6\n",
      "6\n"
     ]
    }
   ],
   "source": [
    "text = \"Python\"\n",
    "length = len(text)\n",
    "print(length)\n",
    "\n",
    "print(len(\"Python\"))\n",
    "print(len(text))"
   ]
  },
  {
   "cell_type": "code",
   "execution_count": 41,
   "metadata": {},
   "outputs": [
    {
     "name": "stdout",
     "output_type": "stream",
     "text": [
      "Table of 4 \n",
      "\n",
      "4 * 1 =  4\n",
      "4 * 2 =  8\n",
      "4 * 3 =  12\n",
      "4 * 4 =  16\n",
      "4 * 5 =  20\n",
      "4 * 6 =  24\n",
      "4 * 7 =  28\n",
      "4 * 8 =  32\n",
      "4 * 9 =  36\n",
      "4 * 10 =  40\n"
     ]
    }
   ],
   "source": [
    "# Exercise:\n",
    "# Print table in a loop till 10\n",
    "\n",
    "print(\"Table of 4 \\n\")\n",
    "for i in range(1,11):\n",
    "    print(\"4 *\", i , \"= \", i*4)"
   ]
  },
  {
   "cell_type": "code",
   "execution_count": 45,
   "metadata": {},
   "outputs": [
    {
     "name": "stdout",
     "output_type": "stream",
     "text": [
      "Number is Positive\n"
     ]
    }
   ],
   "source": [
    "# Exercise take a number input, check whether it is +ve or -ve\n",
    "a = 6\n",
    "\n",
    "if (a >= 0):\n",
    "    print(\"Number is Positive\")\n",
    "else:\n",
    "    print(\"Number is Negative\")"
   ]
  },
  {
   "cell_type": "markdown",
   "metadata": {},
   "source": [
    "# String Indexing\n",
    "\n",
    "* Indexing starts from 0 when we move left to right [Forward Direction]\n",
    "* Indexing starts from -1 when we move right to left [Reverse Direction]"
   ]
  },
  {
   "cell_type": "code",
   "execution_count": 2,
   "metadata": {},
   "outputs": [
    {
     "name": "stdout",
     "output_type": "stream",
     "text": [
      "First Character: P\n",
      "Second Character: y\n",
      "Last Character: n\n",
      "Second Last Character: o\n"
     ]
    }
   ],
   "source": [
    "text = \"Python\"\n",
    "\n",
    "# Accessing character in Forward Direction\n",
    "print(\"First Character:\",text[0])\n",
    "print(\"Second Character:\",text[1])\n",
    "# Accessing character in Reverse Direction\n",
    "print(\"Last Character:\",text[-1])\n",
    "print(\"Second Last Character:\",text[-2])"
   ]
  },
  {
   "cell_type": "code",
   "execution_count": 18,
   "metadata": {},
   "outputs": [
    {
     "name": "stdout",
     "output_type": "stream",
     "text": [
      "h\n",
      "o\n",
      "n\n",
      "\n",
      "\n",
      "6\n"
     ]
    }
   ],
   "source": [
    "text = \"Python\"\n",
    "\n",
    "for i in range(len(text)):\n",
    "    if (i >= 3):\n",
    "        print(text[i])\n",
    "        \n",
    "print(\"\\n\")\n",
    "print(len(text))\n",
    "    \n"
   ]
  },
  {
   "cell_type": "markdown",
   "metadata": {},
   "source": [
    "# String Slicing:"
   ]
  },
  {
   "cell_type": "code",
   "execution_count": 50,
   "metadata": {},
   "outputs": [
    {
     "name": "stdout",
     "output_type": "stream",
     "text": [
      "Sliced Text from left to right:  th\n",
      "Sliced Text from right to left: th\n",
      "\n",
      "All reverse characters:  nohtyP\n",
      "Pytho\n",
      "Pyth\n"
     ]
    }
   ],
   "source": [
    "text = \"Python\"\n",
    "sliced_text = text[-4:-2]  # slicing from right to left in -ve\n",
    "sliced_text_1 = text[2:4]  # slicing from right to left in -ve\n",
    "\n",
    "#  P   y   t   h   o   n\n",
    "#  0   1   2   3   4   5\n",
    "# -6  -5  -4  -3  -2  -1\n",
    "\n",
    "print(\"Sliced Text from left to right: \",sliced_text)\n",
    "print(\"Sliced Text from right to left:\",sliced_text_1)\n",
    "\n",
    "print(\"\")\n",
    "\n",
    "s = text[::-1] # To reverse the string\n",
    "t = text[:-1] # Start from zero till one before of -1\n",
    "u = text[:4] # Start from zero till index 4-1\n",
    "\n",
    "print(\"All reverse characters: \", s)\n",
    "print(t)\n",
    "print(u)"
   ]
  },
  {
   "cell_type": "markdown",
   "metadata": {},
   "source": [
    "# Typecasting"
   ]
  },
  {
   "cell_type": "code",
   "execution_count": 69,
   "metadata": {},
   "outputs": [
    {
     "name": "stdout",
     "output_type": "stream",
     "text": [
      "67.0 <class 'float'>\n",
      "2\n"
     ]
    }
   ],
   "source": [
    "number = 42\n",
    "\n",
    "str_number = str(number)\n",
    "float_number = float(number)\n",
    "int_number = float(int(\"67\"))\n",
    "\n",
    "print(int_number,type(int_number))\n",
    "print(str_number[-1]) # Access last number\n"
   ]
  },
  {
   "cell_type": "markdown",
   "metadata": {},
   "source": [
    "# Case Conversion Methods:\n",
    "  1. to_uppercase()\n",
    "  2. to_lowercase()\n",
    "  3. to_capitalize()\n",
    "  4. title()\n",
    "  "
   ]
  },
  {
   "cell_type": "code",
   "execution_count": 77,
   "metadata": {},
   "outputs": [
    {
     "name": "stdout",
     "output_type": "stream",
     "text": [
      "Upper Case:  [ Python is Fun ] PYTHON IS FUN\n",
      "Lower Case:  [ Python is Fun ] python is fun\n",
      "Capitalize:  [ Python is Fun ]  Python is fun\n",
      "Python is Fun :  Python Is Fun\n"
     ]
    }
   ],
   "source": [
    "text = \"Python is Fun\"\n",
    "\n",
    "print(\"Upper Case: \",\"[\",text,\"]\",text.upper())\n",
    "print(\"Lower Case: \",\"[\",text,\"]\",text.lower())\n",
    "print(\"Capitalize: \",\"[\",text,\"] \",text.capitalize())\n",
    "print(text,\": \",text.title())"
   ]
  },
  {
   "cell_type": "markdown",
   "metadata": {},
   "source": [
    "# Stripping Methods\n",
    "* strip()\n",
    "* lstrip()\n",
    "* rstrip()"
   ]
  },
  {
   "cell_type": "code",
   "execution_count": 80,
   "metadata": {},
   "outputs": [
    {
     "name": "stdout",
     "output_type": "stream",
     "text": [
      "Strip: Python is Fun\n",
      "Left Strip: Python is Fun   \n",
      "Right Strip:    Python is Fun\n"
     ]
    }
   ],
   "source": [
    "text = \"   Python is Fun   \"\n",
    "\n",
    "print(\"Strip:\",text.strip())\n",
    "print(\"Left Strip:\", text.lstrip())\n",
    "print(\"Right Strip:\", text.rstrip())"
   ]
  },
  {
   "cell_type": "code",
   "execution_count": 113,
   "metadata": {},
   "outputs": [
    {
     "name": "stdout",
     "output_type": "stream",
     "text": [
      " Python  is   easy   and Python  is F@un this crises : 9\n",
      " Javascriptis easy and Pythonis Fun this crises\n",
      " Python  is   easy   and Python  is F@un this crises : 2\n",
      "String Starts with:  True\n",
      "String Ends with: True\n",
      "Is All Alphabets in the string:  False\n",
      "Is All numbers in the string:  False\n"
     ]
    }
   ],
   "source": [
    "sentence = \" Python  is   easy   and Python  is F@un this crises\"\n",
    "\n",
    "print(sentence,\":\", sentence.find(\"is\"))\n",
    "\n",
    "replaced_text = sentence.replace(\"Python\",\"Javascript\",1).replace(\"  \",\"\").replace('@',\"\")\n",
    "print(replaced_text)\n",
    "\n",
    "print(sentence,\":\",sentence.count(\" is \"))\n",
    "\n",
    "print(\"String Starts with: \",sentence.startswith(\" P\"))\n",
    "print(\"String Ends with:\",sentence.endswith(\"s\"))\n",
    "print(\"Is All Alphabets in the string: \" , sentence.isalpha())\n",
    "print(\"Is All numbers in the string: \", sentence.isalnum())"
   ]
  },
  {
   "cell_type": "code",
   "execution_count": 126,
   "metadata": {},
   "outputs": [
    {
     "name": "stdout",
     "output_type": "stream",
     "text": [
      "Isalpha:  False\n",
      "Isdigit:  True\n"
     ]
    }
   ],
   "source": [
    "text = \"21321\"\n",
    "\n",
    "print(\"Isalpha: \",text.isalpha())\n",
    "print(\"Isdigit: \", text.isdigit())"
   ]
  },
  {
   "cell_type": "markdown",
   "metadata": {},
   "source": [
    "# Formatting Methods:\n",
    "\n"
   ]
  },
  {
   "cell_type": "code",
   "execution_count": 121,
   "metadata": {},
   "outputs": [
    {
     "name": "stdout",
     "output_type": "stream",
     "text": [
      "My name is Joe and I am 25 years old\n"
     ]
    }
   ],
   "source": [
    "name = \"Joe\"\n",
    "age = 25\n",
    "\n",
    "print(\"My name is {} and I am {} years old\".format(name,age))"
   ]
  },
  {
   "cell_type": "code",
   "execution_count": 131,
   "metadata": {},
   "outputs": [
    {
     "name": "stdout",
     "output_type": "stream",
     "text": [
      "My name is Sobia and i am 38 years old.\n",
      "My name is Sobia and i am 38 years old.\n"
     ]
    }
   ],
   "source": [
    "name = \"Sobia\"\n",
    "age = 38\n",
    "\n",
    "# First way\n",
    "print(\"My name is {} and i am {} years old.\".format(name,age))\n",
    "# Second way\n",
    "print(f\"My name is {name} and i am {age} years old.\")"
   ]
  },
  {
   "cell_type": "code",
   "execution_count": 132,
   "metadata": {},
   "outputs": [
    {
     "name": "stdout",
     "output_type": "stream",
     "text": [
      "Sum of 2 and 3 is 5\n"
     ]
    }
   ],
   "source": [
    "a,b = 2,3\n",
    "\n",
    "print(f\"Sum of {a} and {b} is {a+b}\")"
   ]
  },
  {
   "cell_type": "code",
   "execution_count": null,
   "metadata": {},
   "outputs": [],
   "source": []
  }
 ],
 "metadata": {
  "kernelspec": {
   "display_name": "Python 3",
   "language": "python",
   "name": "python3"
  },
  "language_info": {
   "codemirror_mode": {
    "name": "ipython",
    "version": 3
   },
   "file_extension": ".py",
   "mimetype": "text/x-python",
   "name": "python",
   "nbconvert_exporter": "python",
   "pygments_lexer": "ipython3",
   "version": "3.12.3"
  }
 },
 "nbformat": 4,
 "nbformat_minor": 2
}
